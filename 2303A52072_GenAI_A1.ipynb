{
  "nbformat": 4,
  "nbformat_minor": 0,
  "metadata": {
    "colab": {
      "provenance": [],
      "authorship_tag": "ABX9TyPuPmVAa+6/Fr13sP45G1fD",
      "include_colab_link": true
    },
    "kernelspec": {
      "name": "python3",
      "display_name": "Python 3"
    },
    "language_info": {
      "name": "python"
    }
  },
  "cells": [
    {
      "cell_type": "markdown",
      "metadata": {
        "id": "view-in-github",
        "colab_type": "text"
      },
      "source": [
        "<a href=\"https://colab.research.google.com/github/Eshwar1435/GEN_AI_2072/blob/main/2303A52072_GenAI_A1.ipynb\" target=\"_parent\"><img src=\"https://colab.research.google.com/assets/colab-badge.svg\" alt=\"Open In Colab\"/></a>"
      ]
    },
    {
      "cell_type": "markdown",
      "source": [
        "#Rgression Metrices"
      ],
      "metadata": {
        "id": "eAEVsL42-bLl"
      }
    },
    {
      "cell_type": "code",
      "execution_count": 57,
      "metadata": {
        "id": "TO0ZorlD9hCa"
      },
      "outputs": [],
      "source": [
        "ya=[10,20,30,40,50]\n",
        "yp=[10.2,20.5,30.3,40.8,50.6]"
      ]
    },
    {
      "cell_type": "markdown",
      "source": [
        "##Without libraries"
      ],
      "metadata": {
        "id": "G16RW_L2-gad"
      }
    },
    {
      "cell_type": "code",
      "source": [
        "total=0\n",
        "sum=0\n",
        "for i in range(len(ya)):\n",
        "  sum=sum+(ya[i]-yp[i])**2\n",
        "mse = sum/len(ya)\n",
        "print(\"mean square error : \",mse)"
      ],
      "metadata": {
        "colab": {
          "base_uri": "https://localhost:8080/"
        },
        "id": "oClnZCuf-euh",
        "outputId": "e66a28a0-c6c1-4b32-895f-2fc2e7e9a9aa"
      },
      "execution_count": 58,
      "outputs": [
        {
          "output_type": "stream",
          "name": "stdout",
          "text": [
            "mean square error :  0.27599999999999947\n"
          ]
        }
      ]
    },
    {
      "cell_type": "code",
      "source": [
        "total=0\n",
        "sum=0\n",
        "for i in range(len(ya)):\n",
        "  sum=sum+abs((ya[i]-yp[i]))\n",
        "mae = sum/len(ya)\n",
        "print(\"mean absolute error : \",mae)"
      ],
      "metadata": {
        "colab": {
          "base_uri": "https://localhost:8080/"
        },
        "id": "DHiyxtOU-tL-",
        "outputId": "5ecf9c22-a2fb-4829-d3fe-b172e0a323b3"
      },
      "execution_count": 59,
      "outputs": [
        {
          "output_type": "stream",
          "name": "stdout",
          "text": [
            "mean absolute error :  0.4799999999999997\n"
          ]
        }
      ]
    },
    {
      "cell_type": "code",
      "source": [
        "print(\"Root mean square error : \",(mse)**0.5)"
      ],
      "metadata": {
        "colab": {
          "base_uri": "https://localhost:8080/"
        },
        "id": "cMby74OO_Kkd",
        "outputId": "36ad301c-71ac-4a18-b099-fda9b9d48517"
      },
      "execution_count": 60,
      "outputs": [
        {
          "output_type": "stream",
          "name": "stdout",
          "text": [
            "Root mean square error :  0.5253570214625474\n"
          ]
        }
      ]
    },
    {
      "cell_type": "markdown",
      "source": [
        "##with libraries"
      ],
      "metadata": {
        "id": "Rx02_OPH_msM"
      }
    },
    {
      "cell_type": "code",
      "source": [
        "from sklearn.metrics import mean_squared_error,mean_absolute_error,root_mean_squared_error"
      ],
      "metadata": {
        "id": "8A1EtTSA_YVP"
      },
      "execution_count": 61,
      "outputs": []
    },
    {
      "cell_type": "code",
      "source": [
        "print(\"mean square error : \",mean_squared_error(ya,yp))\n",
        "print(\"mean absolute error : \",mean_absolute_error(ya,yp))\n",
        "print(\"Root mean square error : \",root_mean_squared_error(ya,yp))"
      ],
      "metadata": {
        "colab": {
          "base_uri": "https://localhost:8080/"
        },
        "id": "opVMpFrE_y6m",
        "outputId": "54a48e18-c791-40c5-8fa5-1762a7452f96"
      },
      "execution_count": 62,
      "outputs": [
        {
          "output_type": "stream",
          "name": "stdout",
          "text": [
            "mean square error :  0.27599999999999947\n",
            "mean absolute error :  0.4799999999999997\n",
            "Root mean square error :  0.5253570214625474\n"
          ]
        }
      ]
    },
    {
      "cell_type": "markdown",
      "source": [
        "#Classification Metrices"
      ],
      "metadata": {
        "id": "PiojxQo7_5_t"
      }
    },
    {
      "cell_type": "code",
      "source": [
        "ya1=[0,0,0,0,0,1,1,1,1,1,1,2,2,2,2,2]\n",
        "yp1=[0,0,1,1,2,2,0,1,1,1,2,0,2,1,1,2]"
      ],
      "metadata": {
        "id": "8lgJbkgR_3fk"
      },
      "execution_count": 63,
      "outputs": []
    },
    {
      "cell_type": "markdown",
      "source": [
        "#without libraries\n"
      ],
      "metadata": {
        "id": "AzRuiZiqNP_O"
      }
    },
    {
      "cell_type": "code",
      "source": [
        "min_label = min(min(ya1), min(yp1))\n",
        "max_label = max(max(ya1), max(yp1))\n",
        "\n",
        "\n",
        "num_classes = max_label - min_label + 1\n",
        "\n",
        "cm = np.array([[0 for _ in range(num_classes)] for _ in range(num_classes)])\n",
        "\n",
        "for i in range(len(ya1)):\n",
        "    cm[ya1[i]-min_label][yp1[i]-min_label] += 1\n",
        "\n",
        "for row in cm:\n",
        "    print(row)\n"
      ],
      "metadata": {
        "colab": {
          "base_uri": "https://localhost:8080/"
        },
        "id": "RfGHGqhSABU8",
        "outputId": "d9476565-671f-44c3-f6c1-a6860295b204"
      },
      "execution_count": 64,
      "outputs": [
        {
          "output_type": "stream",
          "name": "stdout",
          "text": [
            "[2 2 1]\n",
            "[1 3 2]\n",
            "[1 2 2]\n"
          ]
        }
      ]
    },
    {
      "cell_type": "code",
      "source": [
        "# cm=np.array(cm)"
      ],
      "metadata": {
        "id": "V1hJqkeH1qUE"
      },
      "execution_count": 65,
      "outputs": []
    },
    {
      "cell_type": "code",
      "source": [
        "cm"
      ],
      "metadata": {
        "colab": {
          "base_uri": "https://localhost:8080/"
        },
        "id": "A_JGGF431zbf",
        "outputId": "6ade8543-2a12-4f16-907a-72d93a19a46e"
      },
      "execution_count": 66,
      "outputs": [
        {
          "output_type": "execute_result",
          "data": {
            "text/plain": [
              "array([[2, 2, 1],\n",
              "       [1, 3, 2],\n",
              "       [1, 2, 2]])"
            ]
          },
          "metadata": {},
          "execution_count": 66
        }
      ]
    },
    {
      "cell_type": "code",
      "source": [
        "import numpy as np"
      ],
      "metadata": {
        "id": "oMU7eUBPI4cS"
      },
      "execution_count": 67,
      "outputs": []
    },
    {
      "cell_type": "code",
      "source": [
        "accuracy = np.sum(np.diagonal(cm)) / np.sum(cm)\n",
        "\n",
        "precision = np.zeros(num_classes)\n",
        "recall = np.zeros(num_classes)\n",
        "f1_score = np.zeros(num_classes)\n",
        "\n",
        "for i in range(num_classes):\n",
        "    TP = cm[i, i]  # True Positives\n",
        "    FP = np.sum(cm[:, i]) - TP  # False Positives\n",
        "    FN = np.sum(cm[i, :]) - TP  # False Negatives\n",
        "    TN = np.sum(cm) - (TP + FP + FN)  # True Negatives\n",
        "    # Precision: TP / (TP + FP)\n",
        "    precision[i] = TP / (TP + FP) if (TP + FP) > 0 else 0\n",
        "\n",
        "    # Recall: TP / (TP + FN)\n",
        "    recall[i] = TP / (TP + FN) if (TP + FN) > 0 else 0\n",
        "\n",
        "    # F1 Score: 2 * (Precision * Recall) / (Precision + Recall)\n",
        "    if precision[i] + recall[i] > 0:\n",
        "        f1_score[i] = 2 * (precision[i] * recall[i]) / (precision[i] + recall[i])\n",
        "    else:\n",
        "        f1_score[i] = 0\n",
        "\n",
        "# Calculate overall precision, recall, and F1-score using numpy\n",
        "overall_precision = np.mean(precision)\n",
        "overall_recall = np.mean(recall)\n",
        "overall_f1_score = np.mean(f1_score)\n",
        "\n",
        "# Print results\n",
        "for i in range(num_classes):\n",
        "    print(f\"\\nClass {i + min_label}:\")\n",
        "    print(f\"  Precision: {precision[i]:.2f}\")\n",
        "    print(f\"  Recall: {recall[i]:.2f}\")\n",
        "    print(f\"  F1-Score: {f1_score[i]:.2f}\")\n",
        "\n",
        "\n",
        "print(\"\\nMetrics:\")\n",
        "print(f\"Overall Accuracy: {accuracy:.2f}\")\n",
        "print(f\"Overall Precision: {overall_precision:.2f}\")\n",
        "print(f\"Overall Recall: {overall_recall:.2f}\")\n",
        "print(f\"Overall F1-Score: {overall_f1_score:.2f}\")\n",
        "\n",
        "print()\n",
        "print()"
      ],
      "metadata": {
        "id": "-9--3z7RGdV-",
        "colab": {
          "base_uri": "https://localhost:8080/"
        },
        "outputId": "08107e41-874b-40a3-a292-da8b92ec6c2a"
      },
      "execution_count": 68,
      "outputs": [
        {
          "output_type": "stream",
          "name": "stdout",
          "text": [
            "\n",
            "Class 0:\n",
            "  Precision: 0.50\n",
            "  Recall: 0.40\n",
            "  F1-Score: 0.44\n",
            "\n",
            "Class 1:\n",
            "  Precision: 0.43\n",
            "  Recall: 0.50\n",
            "  F1-Score: 0.46\n",
            "\n",
            "Class 2:\n",
            "  Precision: 0.40\n",
            "  Recall: 0.40\n",
            "  F1-Score: 0.40\n",
            "\n",
            "Metrics:\n",
            "Overall Accuracy: 0.44\n",
            "Overall Precision: 0.44\n",
            "Overall Recall: 0.43\n",
            "Overall F1-Score: 0.44\n",
            "\n",
            "\n"
          ]
        }
      ]
    },
    {
      "cell_type": "markdown",
      "source": [
        "##with libraries"
      ],
      "metadata": {
        "id": "wDkFSIfhLZay"
      }
    },
    {
      "cell_type": "code",
      "source": [
        "from sklearn.metrics import accuracy_score,precision_score,f1_score,recall_score,classification_report,confusion_matrix"
      ],
      "metadata": {
        "id": "EUERDDOsLgKn"
      },
      "execution_count": 69,
      "outputs": []
    },
    {
      "cell_type": "code",
      "source": [
        "print(confusion_matrix(ya1,yp1))"
      ],
      "metadata": {
        "colab": {
          "base_uri": "https://localhost:8080/"
        },
        "id": "mIPA6IbhNeIr",
        "outputId": "f024a4b0-4961-4fc5-9129-cba7ed3886c4"
      },
      "execution_count": 70,
      "outputs": [
        {
          "output_type": "stream",
          "name": "stdout",
          "text": [
            "[[2 2 1]\n",
            " [1 3 2]\n",
            " [1 2 2]]\n"
          ]
        }
      ]
    },
    {
      "cell_type": "code",
      "source": [
        "print(classification_report(ya1,yp1))"
      ],
      "metadata": {
        "colab": {
          "base_uri": "https://localhost:8080/"
        },
        "id": "xazicOLtLzz7",
        "outputId": "035c228b-b1ce-4f7b-c5c0-b4fa4d11a3a0"
      },
      "execution_count": 71,
      "outputs": [
        {
          "output_type": "stream",
          "name": "stdout",
          "text": [
            "              precision    recall  f1-score   support\n",
            "\n",
            "           0       0.50      0.40      0.44         5\n",
            "           1       0.43      0.50      0.46         6\n",
            "           2       0.40      0.40      0.40         5\n",
            "\n",
            "    accuracy                           0.44        16\n",
            "   macro avg       0.44      0.43      0.44        16\n",
            "weighted avg       0.44      0.44      0.44        16\n",
            "\n"
          ]
        }
      ]
    },
    {
      "cell_type": "code",
      "source": [
        "print(\"\\nMetrics:\")\n",
        "print(f\"Overall Accuracy: {accuracy_score(ya1,yp1):.2f}\")\n",
        "print(f\"Overall Precision: {precision_score(ya1,yp1, average='weighted'):.2f}\")\n",
        "print(f\"Overall Recall: {recall_score(ya1,yp1, average='weighted'):.2f}\")\n",
        "print(f\"Overall F1-Score: {f1_score(ya1,yp1, average='weighted'):.2f}\")"
      ],
      "metadata": {
        "colab": {
          "base_uri": "https://localhost:8080/"
        },
        "id": "77-jG--xMayV",
        "outputId": "eae33461-bd2d-43f7-d908-c283478514bf"
      },
      "execution_count": 72,
      "outputs": [
        {
          "output_type": "stream",
          "name": "stdout",
          "text": [
            "\n",
            "Metrics:\n",
            "Overall Accuracy: 0.44\n",
            "Overall Precision: 0.44\n",
            "Overall Recall: 0.44\n",
            "Overall F1-Score: 0.44\n"
          ]
        }
      ]
    },
    {
      "cell_type": "code",
      "source": [],
      "metadata": {
        "id": "kzqPOhg5M7F7"
      },
      "execution_count": 72,
      "outputs": []
    }
  ]
}